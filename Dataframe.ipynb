{
 "cells": [
  {
   "cell_type": "markdown",
   "metadata": {},
   "source": [
    "# Relatório de Vendas\n",
    "\n",
    "Este é um relatório de vendas dos anos 2020, 2021, 2022 e 2023.\n",
    "Contém informações sobre as vendas mensais em cada um desses anos."
   ]
  },
  {
   "cell_type": "code",
   "execution_count": null,
   "metadata": {},
   "outputs": [],
   "source": [
    "import pandas as pd\n",
    "\n",
  "# DataFrame do ano atual\n",
    "data_ano atual = {\n",
    "    'Data': ['2023-01-01', '2023-02-01', '2023-03-01', '2023-04-01', '2023-05-01', '2023-06-01', '2023-07-01', '2023-08-01', '2023-09-01', '2023-10-01', '2023-11-01', '2023-12-01'],\n",
    "    'Vendas': [1000, 1500, 1200, 1800, 2000, 2500, 3000, 2800, 2200, 1800, 1500, 1200]\n",
    "}\n",
    "\n",
    "# DataFrame para o ano de 2020 (usar para comparar com o= ano atual)\n",
    "data_2020 = {\n",
    "    'Data': ['2020-01-01', '2020-02-01', '2020-03-01', '2020-04-01', '2020-05-01', '2020-06-01', '2020-07-01', '2020-08-01', '2020-09-01', '2020-10-01', '2020-11-01', '2020-12-01'],\n",
    "    'Vendas': [800, 1200, 900, 1500, 1800, 2000, 2500, 2300, 1900, 1500, 1200, 1000]\n",
    "}\n",
    "\n",
    "# DataFrame para o ano de 2021(usar para comparar com o ano atual)\n",
    "data_2021 = {\n",
    "    'Data': ['2021-01-01', '2021-02-01', '2021-03-01', '2021-04-01', '2021-05-01', '2021-06-01', '2021-07-01', '2021-08-01', '2021-09-01', '2021-10-01', '2021-11-01', '2021-12-01'],\n",
    "    'Vendas': [900, 1300, 1000, 1600, 1900, 2200, 2600, 2400, 2000, 1700, 1400, 1100]\n",
    "}\n",
    "\n",
    "# DataFrame para o ano de 2022(usar para comparar com o ano atual)\n",
    "data_2022 = {\n",
    "    'Data': ['2022-01-01', '2022-02-01', '2022-03-01', '2022-04-01', '2022-05-01', '2022-06-01', '2022-07-01', '2022-08-01', '2022-09-01', '2022-10-01', '2022-11-01', '2022-12-01'],\n",
    "    'Vendas': [1000, 1500, 1200, 1800, 2000, 2500, 3000, 2800, 2200, 1800, 1500, 1200]\n",
    "}\n",
    "\n",
    "# Criando os DataFrames\n",
    "df_2023 = pd.DataFrame(data_2020)\n",
    "df_2020 = pd.DataFrame(data_2020)\n",
    "df_2021 = pd.DataFrame(data_2021)\n",
    "df_2022 = pd.DataFrame(data_2022)\n",
    "\n",
    "# Concatenando os DataFrames dos quatro anos\n",
    "df_total = pd.concat([df_2020, df_2021, df_2022, ], ignore_index=True)\n",
    "\n",
    "df_total.head()\n"
   ]
  },
  {
   "cell_type": "markdown",
   "metadata": {},
   "source": [
    "Este é o DataFrame que contém os dados de vendas dos anos 2020, 2021 e 2022.\n",
    "Ele foi criado pela concatenação dos DataFrames dos três anos.\n",
    "O comando `df_total.head()` é utilizado para visualizar as primeiras linhas do DataFrame."
   ]
  }
 ],
 "metadata": {
  "kernelspec": {
   "display_name": "Python 3",
   "language": "python",
   "name": "python3"
  },
  "language_info": {
   "codename": "python",
   "version": "3.8.8",
   "file_extension": ".py",
   "mimetype": "text/x-python",
   "name": "python",
   "nbconvert_exporter": "python",
   "pygments_lexer": "ipython3",
   "type": "python"
  }
 },
 "nbformat": 4,
 "nbformat_minor": 5
}
